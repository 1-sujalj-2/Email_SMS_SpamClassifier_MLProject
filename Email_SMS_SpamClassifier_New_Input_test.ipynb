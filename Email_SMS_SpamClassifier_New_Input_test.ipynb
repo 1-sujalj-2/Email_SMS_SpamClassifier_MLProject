{
 "cells": [
  {
   "cell_type": "code",
   "execution_count": 12,
   "id": "afb8d2bd",
   "metadata": {},
   "outputs": [],
   "source": [
    "import pickle\n",
    "import nltk\n",
    "from nltk.corpus import stopwords\n",
    "from nltk.stem.porter import PorterStemmer\n",
    "import string"
   ]
  },
  {
   "cell_type": "code",
   "execution_count": 6,
   "id": "308d12ea",
   "metadata": {},
   "outputs": [
    {
     "ename": "EOFError",
     "evalue": "Ran out of input",
     "output_type": "error",
     "traceback": [
      "\u001b[1;31m---------------------------------------------------------------------------\u001b[0m",
      "\u001b[1;31mEOFError\u001b[0m                                  Traceback (most recent call last)",
      "Cell \u001b[1;32mIn[6], line 2\u001b[0m\n\u001b[0;32m      1\u001b[0m \u001b[38;5;28;01mwith\u001b[39;00m \u001b[38;5;28mopen\u001b[39m(\u001b[38;5;124m'\u001b[39m\u001b[38;5;124mtransform.pkl\u001b[39m\u001b[38;5;124m'\u001b[39m,\u001b[38;5;124m'\u001b[39m\u001b[38;5;124mrb\u001b[39m\u001b[38;5;124m'\u001b[39m) \u001b[38;5;28;01mas\u001b[39;00m file:\n\u001b[1;32m----> 2\u001b[0m     f_transformer \u001b[38;5;241m=\u001b[39m pickle\u001b[38;5;241m.\u001b[39mload(file)\n",
      "\u001b[1;31mEOFError\u001b[0m: Ran out of input"
     ]
    }
   ],
   "source": [
    "with open('transform.pkl','rb') as file:\n",
    "    f_transformer = pickle.load(file)"
   ]
  },
  {
   "cell_type": "code",
   "execution_count": 14,
   "id": "63d83e0e",
   "metadata": {},
   "outputs": [],
   "source": [
    "ps =PorterStemmer()"
   ]
  },
  {
   "cell_type": "code",
   "execution_count": 8,
   "id": "1c5731e2",
   "metadata": {},
   "outputs": [],
   "source": [
    "def transform(text):\n",
    "    text = text.lower()\n",
    "    \n",
    "    text = nltk.word_tokenize(text)\n",
    "    \n",
    "    y = []\n",
    "    for i in text:\n",
    "        if i.isalnum():\n",
    "            y.append(i)\n",
    "    text = y.copy()\n",
    "    y.clear()\n",
    "    \n",
    "    for i in text:\n",
    "        if i not in stopwords.words('english') and i not in string.punctuation:\n",
    "            y.append(i)\n",
    "            \n",
    "    text = y.copy()\n",
    "    y.clear()\n",
    "    \n",
    "    for i in text:\n",
    "        y.append(ps.stem(i))\n",
    "    \n",
    "    text = y.copy()\n",
    "    y.clear()\n",
    "    \n",
    "    return \" \".join(text)"
   ]
  },
  {
   "cell_type": "code",
   "execution_count": 9,
   "id": "1479c2d1",
   "metadata": {},
   "outputs": [],
   "source": [
    "t_tfidf = pickle.load(open('EmailClassifier_Vectoriser.pkl','rb'))\n",
    "model = pickle.load(open('Email_Classifier_Model.pkl','rb'))"
   ]
  },
  {
   "cell_type": "code",
   "execution_count": 10,
   "id": "4bf03d80",
   "metadata": {},
   "outputs": [],
   "source": [
    "test_input = 'Congrats!We are happy to inform you that you have won a lucky draw worth one crore.We request you to share the following details to claim your prize.'"
   ]
  },
  {
   "cell_type": "code",
   "execution_count": 15,
   "id": "f5290b83",
   "metadata": {},
   "outputs": [],
   "source": [
    "trans_test_input = transform(test_input)"
   ]
  },
  {
   "cell_type": "code",
   "execution_count": 17,
   "id": "d6def8ed",
   "metadata": {},
   "outputs": [],
   "source": [
    "n_test_input = t_tfidf.transform([trans_test_input])"
   ]
  },
  {
   "cell_type": "code",
   "execution_count": 20,
   "id": "e303abc3",
   "metadata": {},
   "outputs": [
    {
     "name": "stdout",
     "output_type": "stream",
     "text": [
      "spam\n"
     ]
    }
   ],
   "source": [
    "if model.predict(n_test_input)[0] == 1:\n",
    "    print(\"spam\")\n",
    "else:\n",
    "    print(\"ham\")"
   ]
  },
  {
   "cell_type": "code",
   "execution_count": null,
   "id": "8a80cf76",
   "metadata": {},
   "outputs": [],
   "source": []
  }
 ],
 "metadata": {
  "kernelspec": {
   "display_name": "Python 3 (ipykernel)",
   "language": "python",
   "name": "python3"
  },
  "language_info": {
   "codemirror_mode": {
    "name": "ipython",
    "version": 3
   },
   "file_extension": ".py",
   "mimetype": "text/x-python",
   "name": "python",
   "nbconvert_exporter": "python",
   "pygments_lexer": "ipython3",
   "version": "3.11.4"
  }
 },
 "nbformat": 4,
 "nbformat_minor": 5
}
